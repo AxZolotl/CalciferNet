{
 "cells": [
  {
   "cell_type": "code",
   "execution_count": 2,
   "metadata": {},
   "outputs": [],
   "source": [
    "from imutils import paths \n",
    "from shutil import copyfile\n",
    "import pandas as pd\n",
    "import numpy as np\n",
    "import cv2\n",
    "import xml.etree.ElementTree as ET\n",
    "import csv\n",
    "import os"
   ]
  },
  {
   "cell_type": "code",
   "execution_count": 3,
   "metadata": {},
   "outputs": [],
   "source": [
    "def make_dir(dirName):\n",
    "    # Create a target directory & all intermediate \n",
    "    # directories if they don't exists\n",
    "    if not os.path.exists(dirName):\n",
    "        os.makedirs(dirName, exist_ok = True)\n",
    "        print(\"[INFO] Directory \" , dirName ,  \" created\")\n",
    "    else:\n",
    "        print(\"[INFO] Directory \" , dirName ,  \" already exists\")"
   ]
  },
  {
   "cell_type": "code",
   "execution_count": null,
   "metadata": {},
   "outputs": [],
   "source": [
    "SOURCE_PATH = 'dataset/facial_data'\n",
    "TARGET_PATH = 'dataset/YOLOv5'\n",
    "\n",
    "TRAIN_IMG_DIR = 'train/images'\n",
    "TRAIN_LAB_DIR = 'train/labels'\n",
    "make_dir(os.path.join(TARGET_PATH, TRAIN_IMG_DIR))\n",
    "make_dir(os.path.join(TARGET_PATH, TRAIN_LAB_DIR))\n",
    "\n",
    "TEST_IMG_DIR = 'test/images'\n",
    "TEST_LAB_DIR = 'test/labels'\n",
    "make_dir(os.path.join(TARGET_PATH, TEST_IMG_DIR))\n",
    "make_dir(os.path.join(TARGET_PATH, TEST_LAB_DIR))\n",
    "\n",
    "VAL_IMG_DIR = 'val/images'\n",
    "VAL_LAB_DIR = 'val/labels'\n",
    "make_dir(os.path.join(TARGET_PATH, VAL_IMG_DIR))\n",
    "make_dir(os.path.join(TARGET_PATH, VAL_LAB_DIR))"
   ]
  },
  {
   "cell_type": "code",
   "execution_count": 5,
   "metadata": {},
   "outputs": [],
   "source": [
    "def toCSV(source_path, set_='train', env='facial_data'):\n",
    "    xml_path = os.path.join(source_path, set_, '{}.xml'.format(env))\n",
    "    csv_file = os.path.join(source_path, set_, '{}.csv'.format(env))\n",
    "    \n",
    "    # Parse the XML file\n",
    "    tree = ET.parse(xml_path)\n",
    "    root = tree.getroot()\n",
    "\n",
    "    # Open the CSV file for writing\n",
    "    with open(csv_file, mode=\"w\", newline=\"\") as file:\n",
    "        writer = csv.writer(file)\n",
    "        \n",
    "        # Write the header row\n",
    "        header = [\"image\", \"xs\", \"ys\", \"xe\", \"ye\"] + [f\"p{num}x\" for num in range(1,55)] + [f\"p{num}y\" for num in range(1,55)]\n",
    "        writer.writerow(header)\n",
    "        \n",
    "        # Iterate over image elements in XML\n",
    "        for image in root.findall(\".//image\"):\n",
    "            # Filter for images in the \"images/\" directory\n",
    "            image_file = image.get(\"file\")\n",
    "            if image_file.startswith(\"images/\"):\n",
    "                row = [image_file.split('/')[1]]\n",
    "                \n",
    "                # Extract box information\n",
    "                box = image.find(\"box\")\n",
    "                if box is not None:\n",
    "                    xs = int(box.get(\"left\"))\n",
    "                    ys = int(box.get(\"top\"))\n",
    "                    xe = xs + int(box.get(\"width\"))\n",
    "                    ye = ys + int(box.get(\"height\"))\n",
    "                    \n",
    "                    # Add box coordinates to the row\n",
    "                    row.extend([xs, ys, xe, ye])\n",
    "                    \n",
    "                    # Add part coordinates (assuming names 00 to 53 sequentially)\n",
    "                    parts_x = []\n",
    "                    parts_y = []\n",
    "                    for part in sorted(box.findall(\"part\"), key=lambda p: int(p.get(\"name\"))):\n",
    "                        parts_x.append(part.get(\"x\"))\n",
    "                        parts_y.append(part.get(\"y\"))\n",
    "                    \n",
    "                    # Extend the row with part coordinates\n",
    "                    row.extend(parts_x + parts_y)\n",
    "                    \n",
    "                    # Write row to CSV\n",
    "                    writer.writerow(row)"
   ]
  },
  {
   "cell_type": "code",
   "execution_count": 6,
   "metadata": {},
   "outputs": [],
   "source": [
    "toCSV(SOURCE_PATH, set_='test')"
   ]
  },
  {
   "cell_type": "code",
   "execution_count": 7,
   "metadata": {},
   "outputs": [],
   "source": [
    "toCSV(SOURCE_PATH, set_='train')"
   ]
  },
  {
   "cell_type": "code",
   "execution_count": 8,
   "metadata": {},
   "outputs": [],
   "source": [
    "toCSV(SOURCE_PATH, set_='val')"
   ]
  },
  {
   "cell_type": "code",
   "execution_count": 10,
   "metadata": {},
   "outputs": [],
   "source": [
    "def convert(source_path, target_path, set_='train', env='facial_data'):\n",
    "    img_path = os.path.join(source_path, set_, 'images')\n",
    "    csv_file = os.path.join(source_path, set_, '{}.csv'.format(env))\n",
    "    \n",
    "    # import labels as a numpy array\n",
    "    labels = pd.read_csv(csv_file,header=0).to_numpy()\n",
    "\n",
    "    # initialize iterators\n",
    "    iter1 = 0 \n",
    "    iter2 = 0\n",
    "\n",
    "    # init face counter\n",
    "    face_count = 0\n",
    "\n",
    "    # loop over the rows\n",
    "    while iter1 < len(labels):\n",
    "        # load the image\n",
    "        imageName = labels[iter1][0]\n",
    "        \n",
    "        source_img = os.path.join(img_path, imageName)\n",
    "        image = cv2.imread(source_img)\n",
    "        H, W = image.shape[:2]\n",
    "        \n",
    "        target_img = os.path.join(target_path, set_, 'images', imageName)\n",
    "        target_txt = open(os.path.join(target_path, set_,\n",
    "                                'labels/{}.txt'.format(imageName.split('.png')[0])), \"w\")\n",
    "        \n",
    "        copyfile(source_img, target_img)\n",
    "        \n",
    "        # loop over the labels of this image\n",
    "        while labels[iter1][0] == labels[iter2][0]:\n",
    "            # extract coordinates of the bounding box\n",
    "            xs, ys, xe, ye = labels[iter2][1:5]\n",
    "            \n",
    "            # extract 54 facial landmarks (108 values for x and y coordinates)\n",
    "            landmarks = labels[iter2][5:5 + 108]\n",
    "            \n",
    "            # format bounding box and landmark values into a string\n",
    "            label = 'face {} {} {} {}\\n'.format(xs, ys, xe - xs, ye - ys)\n",
    "            w = xe - xs\n",
    "            h = ye - ys\n",
    "                        \n",
    "            xc = xs + w / 2\n",
    "            yc = ys + h / 2\n",
    "            \n",
    "            # Format the label line with normalized bounding box and landmarks\n",
    "            label = '0 {:.3f} {:.3f} {:.3f} {:.3f}'.format(xc / W, yc / H, w / W, h / H)\n",
    "            \n",
    "            # Normalize each landmark coordinate and add to the label\n",
    "            for i in range(0, 108, 2):  # Iterate over landmarks by pairs (x, y)\n",
    "                px = landmarks[i] / W\n",
    "                py = landmarks[i + 1] / H\n",
    "                label += ' {:.3f} {:.3f}'.format(px, py)\n",
    "                \n",
    "            label += '\\n'\n",
    "            \n",
    "            # Write label to the file\n",
    "            target_txt.write(label)\n",
    "            face_count += 1\n",
    "                        \n",
    "            iter2 += 1\n",
    "                        \n",
    "            # break the loop if we exceeded the last row\n",
    "            if iter2 == len(labels):\n",
    "                break\n",
    "                \n",
    "        # equalize iterators\n",
    "        iter1 = iter2\n",
    "\n",
    "\n",
    "    print(iter2, face_count)"
   ]
  },
  {
   "cell_type": "code",
   "execution_count": null,
   "metadata": {},
   "outputs": [],
   "source": [
    "convert(SOURCE_PATH, TARGET_PATH, set_='test')"
   ]
  },
  {
   "cell_type": "code",
   "execution_count": null,
   "metadata": {},
   "outputs": [],
   "source": [
    "convert(SOURCE_PATH, TARGET_PATH, set_='train')"
   ]
  },
  {
   "cell_type": "code",
   "execution_count": null,
   "metadata": {},
   "outputs": [],
   "source": [
    "convert(SOURCE_PATH, TARGET_PATH, set_='val')"
   ]
  }
 ],
 "metadata": {
  "kernelspec": {
   "display_name": ".venv",
   "language": "python",
   "name": "python3"
  },
  "language_info": {
   "codemirror_mode": {
    "name": "ipython",
    "version": 3
   },
   "file_extension": ".py",
   "mimetype": "text/x-python",
   "name": "python",
   "nbconvert_exporter": "python",
   "pygments_lexer": "ipython3",
   "version": "3.12.3"
  }
 },
 "nbformat": 4,
 "nbformat_minor": 4
}
